{
  "nbformat": 4,
  "nbformat_minor": 0,
  "metadata": {
    "colab": {
      "name": "comp.ipynb",
      "provenance": [],
      "authorship_tag": "ABX9TyO+tquR34zNX0AlKsQSEAE1",
      "include_colab_link": true
    },
    "kernelspec": {
      "name": "python3",
      "display_name": "Python 3"
    }
  },
  "cells": [
    {
      "cell_type": "markdown",
      "metadata": {
        "id": "view-in-github",
        "colab_type": "text"
      },
      "source": [
        "<a href=\"https://colab.research.google.com/github/Priyansh9/calculator/blob/master/comp.ipynb\" target=\"_parent\"><img src=\"https://colab.research.google.com/assets/colab-badge.svg\" alt=\"Open In Colab\"/></a>"
      ]
    },
    {
      "cell_type": "markdown",
      "metadata": {
        "id": "n-K00V_dx4oC",
        "colab_type": "text"
      },
      "source": [
        "Z 433 Parliament Square"
      ]
    },
    {
      "cell_type": "code",
      "metadata": {
        "id": "bFVMQ7Nsx8HX",
        "colab_type": "code",
        "colab": {}
      },
      "source": [
        "#include<bits/stdc++.h>\n",
        "using namespace std;\n",
        "int main()\n",
        "{\n",
        "    int n,m,a;\n",
        "    long long int i,j;\n",
        "    cin>>n>>m>>a;\n",
        "    i=n/a;\n",
        "    j=m/a;\n",
        "    if(i*a!=n)\n",
        "    i++;\n",
        "    if(j*a!=m)\n",
        "    j++;\n",
        "    cout<<i*j;\n",
        "}"
      ],
      "execution_count": null,
      "outputs": []
    },
    {
      "cell_type": "markdown",
      "metadata": {
        "id": "b-J0IWMWyBIw",
        "colab_type": "text"
      },
      "source": [
        "Z 415 Pascal and His Triangle"
      ]
    },
    {
      "cell_type": "code",
      "metadata": {
        "id": "bNUUOEzxyGDQ",
        "colab_type": "code",
        "colab": {}
      },
      "source": [
        "def printPascal(n) : \n",
        "    for line in range(0, n) : \n",
        "        \n",
        "        for i in range(0, line + 1) : \n",
        "            print(binomialCoeff(line, i),\"\", end = \"\") \n",
        "        print() \n",
        "      \n",
        "def binomialCoeff(n, k) : \n",
        "    res = 1\n",
        "    if (k > n - k) : \n",
        "        k = n - k \n",
        "    for i in range(0 , k) : \n",
        "        res = res * (n - i) \n",
        "        res = res // (i + 1) \n",
        "      \n",
        "    return res \n",
        "  \n",
        "\n",
        "n = int(input())\n",
        "printPascal(n)"
      ],
      "execution_count": null,
      "outputs": []
    },
    {
      "cell_type": "markdown",
      "metadata": {
        "id": "2HgITAeLyKge",
        "colab_type": "text"
      },
      "source": [
        "I D07 - Clueless Rishi"
      ]
    },
    {
      "cell_type": "code",
      "metadata": {
        "id": "Og2Hzv6YyPfA",
        "colab_type": "code",
        "colab": {}
      },
      "source": [
        "num = list(map(int,input()))\n",
        "ans = []\n",
        "cou = 0\n",
        "num.append(0)\n",
        "for i in num:\n",
        "    if i == 1:\n",
        "        cou += i\n",
        "    else:\n",
        "        ans.append(str(cou))\n",
        "        cou = 0\n",
        "print(\"\".join(ans))"
      ],
      "execution_count": null,
      "outputs": []
    },
    {
      "cell_type": "markdown",
      "metadata": {
        "id": "beuoDgb7yUIv",
        "colab_type": "text"
      },
      "source": [
        "Divisor Exploration II"
      ]
    },
    {
      "cell_type": "code",
      "metadata": {
        "id": "Ch7Apo4Dybd8",
        "colab_type": "code",
        "colab": {}
      },
      "source": [
        "#include <iostream>\n",
        "#include <vector>\n",
        "using namespace std;\n",
        "\n",
        "const long long MOD = 1000000007;\n",
        "const int SIZE = 1299710;\n",
        "\n",
        "long long pow(long long x, long long n) {\n",
        "    long long result = 1;\n",
        "    while(n != 0) {\n",
        "        if(n % 2 == 1) {\n",
        "            result = result * x % MOD;\n",
        "        }\n",
        "        n /= 2;\n",
        "        x = x * x % MOD;\n",
        "    }\n",
        "    return result;\n",
        "}\n",
        "\n",
        "long long inverse(long long n) {\n",
        "    return pow(n, MOD - 2);\n",
        "}\n",
        "\n",
        "long long negative(long long n) {\n",
        "    return MOD - n;\n",
        "}\n",
        "\n",
        "long long sq(long long n) {\n",
        "    return n * n % MOD;\n",
        "}\n",
        "\n",
        "int main() {\n",
        "    int q;\n",
        "    cin >> q;\n",
        "    vector<bool> prime(SIZE, true);\n",
        "    for(int i = 2; i * i < SIZE; i++) {\n",
        "        if(prime[i]) {\n",
        "            for(int j = i * i; j < SIZE; j += i) {\n",
        "                prime[j] = false;\n",
        "            }\n",
        "        }\n",
        "    }\n",
        "    vector<int> primes;\n",
        "    for(int i = 2; i < SIZE; i++) {\n",
        "        if(prime[i]) {\n",
        "            primes.emplace_back(i);\n",
        "        }\n",
        "    }\n",
        "    for(long long m, a; cin >> m >> a; ) {\n",
        "        long long result = 1;\n",
        "        for(long long i = 1; i <= m; i++) {\n",
        "            long long p = primes[i - 1], inv = inverse(p + negative(1));\n",
        "            result = result * ((pow(p, a + 1 + i) + negative(1)) % MOD * inv % MOD * p % MOD + negative(a + 1 + i)) % MOD;\n",
        "            result = result * inv % MOD;\n",
        "        }\n",
        "        cout << result << endl;\n",
        "    }\n",
        "    return 0;\n",
        "}"
      ],
      "execution_count": null,
      "outputs": []
    },
    {
      "cell_type": "markdown",
      "metadata": {
        "id": "xf9sXxuEyjqL",
        "colab_type": "text"
      },
      "source": [
        ""
      ]
    }
  ]
}